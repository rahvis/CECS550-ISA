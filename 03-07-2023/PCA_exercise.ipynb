{
  "nbformat": 4,
  "nbformat_minor": 0,
  "metadata": {
    "colab": {
      "provenance": []
    },
    "kernelspec": {
      "name": "python3",
      "display_name": "Python 3"
    },
    "language_info": {
      "name": "python"
    }
  },
  "cells": [
    {
      "cell_type": "code",
      "execution_count": 1,
      "metadata": {
        "id": "_zcriCer9Czf"
      },
      "outputs": [],
      "source": [
        "#PCA"
      ]
    },
    {
      "cell_type": "markdown",
      "source": [
        "###Varainace"
      ],
      "metadata": {
        "id": "5J9viXpx9mPj"
      }
    },
    {
      "cell_type": "markdown",
      "source": [
        "![image.png](data:image/png;base64,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)"
      ],
      "metadata": {
        "id": "wcv9VRmz9Nvt"
      }
    },
    {
      "cell_type": "markdown",
      "source": [
        "###Covarainace"
      ],
      "metadata": {
        "id": "Irdlzx069jgG"
      }
    },
    {
      "cell_type": "markdown",
      "source": [
        "![image.png](data:image/png;base64,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)"
      ],
      "metadata": {
        "id": "qYmBCX8F9YL2"
      }
    },
    {
      "cell_type": "markdown",
      "source": [
        "![image.png](data:image/png;base64,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)"
      ],
      "metadata": {
        "id": "g5jx-PnJAgWj"
      }
    },
    {
      "cell_type": "markdown",
      "source": [
        "###Eigenvector, Eigenvalues"
      ],
      "metadata": {
        "id": "E3U5c38fA3Bc"
      }
    },
    {
      "cell_type": "markdown",
      "source": [
        "![image.png](data:image/png;base64,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)"
      ],
      "metadata": {
        "id": "yrEZdoJ4A6Yx"
      }
    },
    {
      "cell_type": "markdown",
      "source": [
        "#Pseudocode"
      ],
      "metadata": {
        "id": "49UhTg40BE_A"
      }
    },
    {
      "cell_type": "markdown",
      "source": [
        "###1. Subtract mean from X\n",
        "\n",
        "###2. Calculate Cov(X,X)\n",
        "\n",
        "###3. Calc eigenvectir and eigenvalue of Covariance matrix\n",
        "\n",
        "###4. Sort eigenvector according to their eigenvalue in decreasing order\n",
        "\n",
        "###5. Choose first k-eigenvectors and that will be the new k-dimension\n",
        "\n",
        "###6. Transform the original n-dimension data point to k-dimension (==Projection with doc products)\n"
      ],
      "metadata": {
        "id": "0Tqf2hzZBIny"
      }
    },
    {
      "cell_type": "code",
      "source": [
        "# Use numpy library \n",
        "import numpy as np\n",
        "\n",
        "\n",
        "class PCA:\n",
        "\n",
        "    def __init__(self, n_components):\n",
        "        self.n_components = n_components\n",
        "        self.components = None\n",
        "        self.mean = None\n",
        "\n",
        "    def fit(self, X):\n",
        "        # mean centering\n",
        "        self.mean = np.mean(X, axis=0)\n",
        "        X = X -  self.mean\n",
        "\n",
        "        # covariance, functions needs samples as columns \n",
        "        ## <<< Your code here >>> use numpy \n",
        "        cov = \n",
        "\n",
        "        # eigenvectors, eigenvalues\n",
        "        ## <<< Your code here >>> use numpy \n",
        "        eigenvectors, eigenvalues = \n",
        "\n",
        "        # eigenvectors v = [:, i] column vector, transpose this for easier calculations\n",
        "        ## <<< Your code here >>> Transpose? \n",
        "        eigenvectors = \n",
        "\n",
        "        # sort eigenvectors\n",
        "        ## <<< Your code here >>> use numpy for sorting \n",
        "        idxs = \n",
        "        eigenvalues = eigenvalues[idxs]\n",
        "        eigenvectors = eigenvectors[idxs]\n",
        "\n",
        "        self.components = eigenvectors[:self.n_components]\n",
        "\n",
        "    def transform(self, X):\n",
        "        # projects data\n",
        "        X = X - self.mean\n",
        "        return np.dot(X, self.components.T)\n",
        "\n",
        "\n",
        "# Testing\n",
        "if __name__ == \"__main__\":\n",
        "    # Imports\n",
        "    import matplotlib.pyplot as plt\n",
        "    from sklearn import datasets\n",
        "\n",
        "    # data = datasets.load_digits()\n",
        "    data = datasets.load_iris()\n",
        "    X = data.data\n",
        "    y = data.target\n",
        "\n",
        "    # Project the data onto the 2 primary principal components\n",
        "    pca = PCA(2)\n",
        "    pca.fit(X)\n",
        "    X_projected = pca.transform(X)\n",
        "\n",
        "    print(\"Shape of X:\", X.shape)\n",
        "    print(\"Shape of transformed X:\", X_projected.shape)\n",
        "\n",
        "    x1 = X_projected[:, 0]\n",
        "    x2 = X_projected[:, 1]\n",
        "\n",
        "    plt.scatter(\n",
        "        x1, x2, c=y, edgecolor=\"none\", alpha=0.8, cmap=plt.cm.get_cmap(\"viridis\", 3)\n",
        "    )\n",
        "\n",
        "    plt.xlabel(\"Principal Component 1\")\n",
        "    plt.ylabel(\"Principal Component 2\")\n",
        "    plt.colorbar()\n",
        "    plt.show()"
      ],
      "metadata": {
        "id": "726SqG2u9OiA"
      },
      "execution_count": null,
      "outputs": []
    }
  ]
}