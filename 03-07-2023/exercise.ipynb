{
  "nbformat": 4,
  "nbformat_minor": 0,
  "metadata": {
    "colab": {
      "provenance": []
    },
    "kernelspec": {
      "name": "python3",
      "display_name": "Python 3"
    },
    "language_info": {
      "name": "python"
    }
  },
  "cells": [
    {
      "cell_type": "markdown",
      "source": [
        "#Task 0 - Explore scikit-learn library for PCA"
      ],
      "metadata": {
        "id": "Z0oqt29KOZ6S"
      }
    },
    {
      "cell_type": "markdown",
      "source": [
        "#Task 1 - PCA on Iris dataste "
      ],
      "metadata": {
        "id": "AvVQ_ORGOMla"
      }
    },
    {
      "cell_type": "markdown",
      "source": [
        "1. Perform **IncrementalPCA** on iris dataset\n",
        "2. Transform the dimensions to 2 \n",
        "3. Visualize the components \n",
        "3. Compare the \n",
        "4. Identify the optimal number of dimension using PCA\n",
        "5. Compare the classification accuracy - (a) all features, (b) Incremental PCA, and (c) PCA. "
      ],
      "metadata": {
        "id": "gtgTG-o9OQS4"
      }
    },
    {
      "cell_type": "markdown",
      "source": [
        "#Task 2 - PCA on CIFAR dataste \n",
        "\n",
        "### dataste: https://www.cs.toronto.edu/~kriz/cifar.html"
      ],
      "metadata": {
        "id": "vcbkssj4QIw3"
      }
    },
    {
      "cell_type": "markdown",
      "source": [
        "1. Perform **SprasePCA** on CIFAR 100 dataset using SVC (support vector classifier)\n",
        "2. Transform the dimensions to 2 \n",
        "3. Evaluate the performance of the classification (uses mutilabel classificaiton)\n",
        "4. Identify the optimal number of dimension using PCA"
      ],
      "metadata": {
        "id": "SsQxsxINQMLy"
      }
    },
    {
      "cell_type": "code",
      "source": [],
      "metadata": {
        "id": "ax8P03zlNprb"
      },
      "execution_count": null,
      "outputs": []
    }
  ]
}